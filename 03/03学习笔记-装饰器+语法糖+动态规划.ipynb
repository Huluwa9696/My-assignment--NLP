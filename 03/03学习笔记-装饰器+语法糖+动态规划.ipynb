{
 "cells": [
  {
   "cell_type": "raw",
   "metadata": {},
   "source": [
    "一、装饰器\n",
    "    定义一个普通函数，将被调用的函数在这个函数里写成一个包（wrap）包裹起来，当执行被调用函数时，其实相当于执行了包函数。\n",
    "\n",
    "1、普通装饰器"
   ]
  },
  {
   "cell_type": "code",
   "execution_count": null,
   "metadata": {},
   "outputs": [],
   "source": [
    "def use_logging(func):\n",
    "\n",
    "    def wrapper():\n",
    "        logging.warn(\"%s is running\" % func.__name__)\n",
    "        return func()   # 把 foo 当做参数传递进来时，执行func()就相当于执行foo()\n",
    "    return wrapper\n",
    "\n",
    "def foo():\n",
    "    print('i am foo')\n",
    "\n",
    "foo = use_logging(foo)  # 因为装饰器 use_logging(foo) 返回的时函数对象 wrapper，这条语句相当于  foo = wrapper\n",
    "foo()                   # 执行foo()就相当于执行 wrapper()"
   ]
  },
  {
   "cell_type": "raw",
   "metadata": {},
   "source": [
    "在这里，use_logging是一个普通函数，但是它将foo函数做了装饰，当执行此函数时，相当于执行foo，没有改变函数的本来架构。"
   ]
  },
  {
   "cell_type": "raw",
   "metadata": {},
   "source": [
    "2、带参数的装饰器\n",
    "定义：装饰器允许在调用时带参数，其下再定义一个完整的装饰器，这个功能相当于把一个完整的装饰器做成了一个带参数的闭包，当调用时，Python识别到这一层的封装，可以直接把参数传递到装饰器的环境中。"
   ]
  },
  {
   "cell_type": "code",
   "execution_count": null,
   "metadata": {},
   "outputs": [],
   "source": [
    "def use_logging(level):\n",
    "    def decorator(func):\n",
    "        def wrapper(*args, **kwargs):\n",
    "            if level == \"warn\":\n",
    "                logging.warn(\"%s is running\" % func.__name__)\n",
    "            elif level == \"info\":\n",
    "                logging.info(\"%s is running\" % func.__name__)\n",
    "            return func(*args)\n",
    "        return wrapper\n",
    "\n",
    "    return decorator\n",
    "\n",
    "@use_logging(level=\"warn\")\n",
    "def foo(name='foo'):\n",
    "    print(\"i am %s\" % name)\n",
    "\n",
    "foo()"
   ]
  },
  {
   "cell_type": "raw",
   "metadata": {},
   "source": [
    "3、类装饰器\n",
    "没有看懂，待补充………………\n",
    " "
   ]
  },
  {
   "cell_type": "code",
   "execution_count": null,
   "metadata": {},
   "outputs": [],
   "source": [
    "class Foo(object):\n",
    "    def __init__(self, func):\n",
    "        self._func = func\n",
    "\n",
    "    def __call__(self):\n",
    "        print ('class decorator runing')\n",
    "        self._func()\n",
    "        print ('class decorator ending')\n",
    "\n",
    "@Foo\n",
    "def bar():\n",
    "    print ('bar')\n",
    "\n",
    "bar()"
   ]
  },
  {
   "cell_type": "raw",
   "metadata": {},
   "source": [
    "4、from funtools import wraps\n",
    "\n",
    "当用装饰器调用某函数时，此函数的name,docstring(函数的元信息)都不见了，都被装饰器中的函数信息取代了，为了解决这一问题，可以引入wraps功能，它本身也是一个装饰器，但是可以将foo函数的元信息拷贝到装饰器中的函数里，再输出函数信息时，就是原函数foo的name 和 docstring了"
   ]
  },
  {
   "cell_type": "code",
   "execution_count": null,
   "metadata": {},
   "outputs": [],
   "source": [
    "from functools import wraps\n",
    "def logged(func):\n",
    "    @wraps(func)\n",
    "    def with_logging(*args, **kwargs):\n",
    "        print func.__name__      # 输出 'f'\n",
    "        print func.__doc__       # 输出 'does some math'\n",
    "        return func(*args, **kwargs)\n",
    "    return with_logging\n",
    "\n",
    "@logged\n",
    "def f(x):\n",
    "\"\"\"does some math\"\"\"\n",
    "   return x + x * x"
   ]
  },
  {
   "cell_type": "raw",
   "metadata": {},
   "source": [
    "5、装饰器顺序\n",
    "\n",
    "一个函数可以定义多个装饰器，其顺序为："
   ]
  },
  {
   "cell_type": "code",
   "execution_count": null,
   "metadata": {},
   "outputs": [],
   "source": [
    "@a\n",
    "@b\n",
    "@c\n",
    "def f ():\n",
    "    pass"
   ]
  },
  {
   "cell_type": "code",
   "execution_count": null,
   "metadata": {},
   "outputs": [],
   "source": [
    "f = a(b(c(f)))  #装饰器调用顺序，从第一个到最后，以此是调研foo函数的最外层到最里层"
   ]
  },
  {
   "cell_type": "raw",
   "metadata": {},
   "source": [
    "二、语法糖\n",
    "   \n",
    "定义理解：@符号就是装饰器的语法糖，把此符号放在最后赋值的地方，可以省略foo = use_logging(foo)这句话\n",
    "可以把它理解为一个工具，当想调用某功能函数时，就写一个装饰器，将语法糖粘在这个功能函数的前面，可以直接用装饰器调用，不用对原生函数做修改，提高了函数的可重复利用性质，并且十分方便。一块语法糖可以随时随地粘，然后调用，是不是很方便呢？\n",
    "\n",
    "*args,**kwargs:有时业务逻辑函数foo需要传递参数，那么就需要在定义wrap函数的时候将此参数定义进去。当不知道foo 函数到底有多少个参数时，可以用*args代替，这样不管原生函数中定义了多少参数，都可以传递到wrap中。当foo函数有类似于排序或者其他用到的关键字参数时，用**kwargs代替\n",
    "\n"
   ]
  }
 ],
 "metadata": {
  "kernelspec": {
   "display_name": "Python 3",
   "language": "python",
   "name": "python3"
  },
  "language_info": {
   "codemirror_mode": {
    "name": "ipython",
    "version": 3
   },
   "file_extension": ".py",
   "mimetype": "text/x-python",
   "name": "python",
   "nbconvert_exporter": "python",
   "pygments_lexer": "ipython3",
   "version": "3.7.1"
  }
 },
 "nbformat": 4,
 "nbformat_minor": 2
}
