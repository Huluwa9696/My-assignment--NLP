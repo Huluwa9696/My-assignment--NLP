{
 "cells": [
  {
   "cell_type": "markdown",
   "metadata": {},
   "source": [
    "# Dynamic programming"
   ]
  },
  {
   "cell_type": "code",
   "execution_count": 100,
   "metadata": {},
   "outputs": [],
   "source": [
    "from collections import defaultdict\n",
    "original_price = [1, 5, 8, 9, 10, 17, 17, 20, 24, 30]\n",
    "price = defaultdict(int)\n",
    "for i, p in enumerate(original_price):\n",
    "    price[i+1] = p\n",
    "assert price[1] == 1"
   ]
  },
  {
   "cell_type": "code",
   "execution_count": 101,
   "metadata": {},
   "outputs": [],
   "source": [
    "def memo(f):\n",
    "    already_computed = {}\n",
    "    def wrap(arg):\n",
    "        result = None\n",
    "        if arg in already_computed:\n",
    "            result = already_computed[arg]\n",
    "        else:\n",
    "            result = f(arg)\n",
    "            already_computed[arg] = result\n",
    "            \n",
    "        return result\n",
    "    return wrap"
   ]
  },
  {
   "cell_type": "code",
   "execution_count": 111,
   "metadata": {},
   "outputs": [],
   "source": [
    "solution = {}\n",
    "@memo\n",
    "def r(n):\n",
    "    max_price,max_split = max(\n",
    "    [(price[n],0)] +[(r(i) + r(n-i),i) for i in range(1,n)],key = lambda x:x[0])\n",
    "    solution[n] = (n - max_split,max_split)\n",
    "    return max_price"
   ]
  },
  {
   "cell_type": "code",
   "execution_count": 118,
   "metadata": {},
   "outputs": [],
   "source": [
    "def parse_solution(n):\n",
    "    left,right = solution[n]\n",
    "    if right == 0: return [left]\n",
    "    return parse_solution(left) + parse_solution(right)"
   ]
  },
  {
   "cell_type": "code",
   "execution_count": 119,
   "metadata": {},
   "outputs": [
    {
     "name": "stdout",
     "output_type": "stream",
     "text": [
      "10\n",
      "[2, 2]\n"
     ]
    }
   ],
   "source": [
    "print(r(4))\n",
    "print(parse_solution(4))"
   ]
  },
  {
   "cell_type": "code",
   "execution_count": null,
   "metadata": {},
   "outputs": [],
   "source": []
  },
  {
   "cell_type": "code",
   "execution_count": null,
   "metadata": {},
   "outputs": [],
   "source": []
  }
 ],
 "metadata": {
  "kernelspec": {
   "display_name": "Python 3",
   "language": "python",
   "name": "python3"
  },
  "language_info": {
   "codemirror_mode": {
    "name": "ipython",
    "version": 3
   },
   "file_extension": ".py",
   "mimetype": "text/x-python",
   "name": "python",
   "nbconvert_exporter": "python",
   "pygments_lexer": "ipython3",
   "version": "3.7.1"
  }
 },
 "nbformat": 4,
 "nbformat_minor": 2
}
