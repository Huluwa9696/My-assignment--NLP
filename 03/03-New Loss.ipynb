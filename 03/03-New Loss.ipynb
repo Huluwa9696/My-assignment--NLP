{
 "cells": [
  {
   "cell_type": "markdown",
   "metadata": {},
   "source": [
    "$loss = \\frac{1}{n}\\sum{|y_i - \\hat{y_i}|}$\n"
   ]
  },
  {
   "cell_type": "code",
   "execution_count": 12,
   "metadata": {},
   "outputs": [],
   "source": [
    "import pandas as pd\n",
    "from sklearn.datasets import load_boston"
   ]
  },
  {
   "cell_type": "code",
   "execution_count": 14,
   "metadata": {},
   "outputs": [],
   "source": [
    "def loss(y,y_hat):\n",
    "    return sum(abs(y_i - y_hat_i) for y_i,y_hat_i in zip(list(y),list(y_hat))) / len(list(y))"
   ]
  },
  {
   "cell_type": "code",
   "execution_count": 22,
   "metadata": {},
   "outputs": [],
   "source": [
    "data = load_boston()\n",
    "x,y = data['data'],data['target']\n",
    "def price_k_b(rm,k,b):\n",
    "    return rm * k + b"
   ]
  },
  {
   "cell_type": "code",
   "execution_count": 17,
   "metadata": {},
   "outputs": [],
   "source": [
    "def partial_k(x,y,y_hat):\n",
    "    gradient = 0\n",
    "    for x_i,y_i,y_hat_i in zip(list(x),list(y),list(y_hat)):\n",
    "        if y_i > y_hat_i:\n",
    "            gradient += -1*x_i\n",
    "        elif y_i < y_hat_i:\n",
    "            gradient += x_i\n",
    "    return 1 / len(y) * gradient\n",
    "def partial_b(x,y,y_hat):\n",
    "    gradient = 0\n",
    "    for y_i,y_hat_i in zip(list(y),list(y_hat)):\n",
    "        if y_i > y_hat_i:\n",
    "            gradient += -1\n",
    "        elif y_i < y_hat_i:\n",
    "            gradient += 1\n",
    "    return 1 / len(y) *gradient"
   ]
  },
  {
   "cell_type": "code",
   "execution_count": 20,
   "metadata": {},
   "outputs": [
    {
     "name": "stdout",
     "output_type": "stream",
     "text": [
      "Trying_times is:0 now,best_k:-50.0481690142847,best_b:-20.874484089185927,loss:357.9417344244641\n",
      "Trying_times is:1000 now,best_k:-43.76353462693587,best_b:-19.874484089184705,loss:317.445105041797\n",
      "Trying_times is:2000 now,best_k:-37.47890023958704,best_b:-18.874484089183483,loss:276.9484756591297\n",
      "Trying_times is:3000 now,best_k:-31.194265852237752,best_b:-17.87448408918226,loss:236.4518462764597\n",
      "Trying_times is:4000 now,best_k:-24.90963146488537,best_b:-16.87448408918104,loss:195.95521689377006\n",
      "Trying_times is:5000 now,best_k:-18.624997077532985,best_b:-15.87448408918004,loss:155.45858751108094\n",
      "Trying_times is:6000 now,best_k:-12.340362690180601,best_b:-14.874484089180594,loss:114.96195812839318\n",
      "Trying_times is:7000 now,best_k:-6.055728302828493,best_b:-13.874484089181149,loss:74.4653287457072\n",
      "Trying_times is:8000 now,best_k:0.22890608452323813,best_b:-12.874484089181703,loss:33.968699363023596\n",
      "Trying_times is:9000 now,best_k:5.314511618120086,best_b:-12.070863535822271,loss:5.053992591774906\n",
      "Trying_times is:10000 now,best_k:5.4831600963809874,best_b:-12.0772666978776,loss:4.941239071920216\n",
      "Trying_times is:11000 now,best_k:5.4880763849186645,best_b:-12.110401085229313,loss:4.940116978219699\n",
      "Trying_times is:12000 now,best_k:5.4929673572508095,best_b:-12.143531520011855,loss:4.938995517990225\n",
      "Trying_times is:13000 now,best_k:5.498190740650014,best_b:-12.176432705782553,loss:4.937885508741423\n",
      "Trying_times is:14000 now,best_k:5.503766487685415,best_b:-12.209057211711368,loss:4.936790109646951\n",
      "Trying_times is:15000 now,best_k:5.509365294009354,best_b:-12.241677765071014,loss:4.935694619630472\n",
      "Trying_times is:16000 now,best_k:5.514964100333292,best_b:-12.27429831843066,loss:4.934599138479272\n",
      "Trying_times is:17000 now,best_k:5.520539847368693,best_b:-12.306922824359475,loss:4.9335037782474735\n",
      "Trying_times is:18000 now,best_k:5.526138653692631,best_b:-12.33954337771912,loss:4.932408288230993\n",
      "Trying_times is:19000 now,best_k:5.531737460016569,best_b:-12.372163931078767,loss:4.9313127982145115\n",
      "Trying_times is:20000 now,best_k:5.536831744601366,best_b:-12.404776579300073,loss:4.930223326262215\n",
      "Trying_times is:21000 now,best_k:5.541793503494438,best_b:-12.43738132238304,loss:4.929135619415327\n",
      "Trying_times is:22000 now,best_k:5.546755262387511,best_b:-12.469986065466006,loss:4.928047912568446\n",
      "Trying_times is:23000 now,best_k:5.5517170212805835,best_b:-12.502590808548973,loss:4.926960205721556\n",
      "Trying_times is:24000 now,best_k:5.556678780173656,best_b:-12.53519555163194,loss:4.9258724988746705\n",
      "Trying_times is:25000 now,best_k:5.561640539066729,best_b:-12.567800294714907,loss:4.924784792027787\n",
      "Trying_times is:26000 now,best_k:5.566626554876786,best_b:-12.600329938983649,loss:4.923701701515503\n",
      "Trying_times is:27000 now,best_k:5.571881495587805,best_b:-12.63195049234335,loss:4.922674227718852\n",
      "Trying_times is:28000 now,best_k:5.577317653690132,best_b:-12.663539425149693,loss:4.921646801494942\n",
      "Trying_times is:29000 now,best_k:5.5828217683142,best_b:-12.695116500248528,loss:4.9206193931108215\n"
     ]
    }
   ],
   "source": [
    "import random\n",
    "trying_times = 30000\n",
    "x,y = data['data'],data['target']\n",
    "x_rm = x[:,5]\n",
    "min_loss = float('inf')\n",
    "current_k = random.random()*200-100\n",
    "current_b = random.random()*200-100\n",
    "learning_rate = 1e-03\n",
    "update_time = 0\n",
    "\n",
    "for i in range(trying_times):\n",
    "    price_k_b = [price(r,current_k,current_b) for r in x_rm]\n",
    "    current_loss = loss(y,price_k_b)\n",
    "    \n",
    "    if current_loss < min_loss:\n",
    "        min_loss = current_loss\n",
    "        if i % 1000 == 0:\n",
    "            print('Trying_times is:{} now,best_k:{},best_b:{},loss:{}'.format(i,current_k,current_b,min_loss))\n",
    "    k_gradient = partial_k(x_rm,y,price_k_b)\n",
    "    b_gradient = partial_b(x_rm,y,price_k_b)\n",
    "    current_k = current_k + (-1*k_gradient) * learning_rate\n",
    "    current_b = current_b + (-1*b_gradient) * learning_rate"
   ]
  },
  {
   "cell_type": "code",
   "execution_count": null,
   "metadata": {},
   "outputs": [],
   "source": []
  }
 ],
 "metadata": {
  "kernelspec": {
   "display_name": "Python 3",
   "language": "python",
   "name": "python3"
  },
  "language_info": {
   "codemirror_mode": {
    "name": "ipython",
    "version": 3
   },
   "file_extension": ".py",
   "mimetype": "text/x-python",
   "name": "python",
   "nbconvert_exporter": "python",
   "pygments_lexer": "ipython3",
   "version": "3.7.1"
  }
 },
 "nbformat": 4,
 "nbformat_minor": 2
}
