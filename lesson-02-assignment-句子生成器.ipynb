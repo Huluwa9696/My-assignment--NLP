{
 "cells": [
  {
   "cell_type": "code",
   "execution_count": 311,
   "metadata": {},
   "outputs": [],
   "source": [
    "customer_grammar = \"\"\"\n",
    "customer = 人 想要 数量 单位 饮料\n",
    "人 = 我 | 我俩 | 我们 \n",
    "想要 = 要点 | 想喝 | 要打包\n",
    "数量 = 1 | 2 | 3 | 4 | 5 | 6 | 7 | 8 | 9 \n",
    "单位 = 杯\n",
    "饮料 = 养乐多 | 柠檬绿茶 | 珍珠奶茶 | 气泡水\n",
    "\"\"\"\n",
    "waiter_grammar = \"\"\"\n",
    "waiter = 寒暄 报数 询问 业务相关 结尾 \n",
    "报数 = 我是 数字 号 ,\n",
    "数字 = 1 | 2 | 3 | 4 | 5 | 6 | 7 | 8 | 9 \n",
    "寒暄 = 称谓 打招呼 | 打招呼\n",
    "称谓 = 人称 ,\n",
    "人称 = 先生 | 女士 | 小朋友\n",
    "打招呼 = 你好 | 您好 \n",
    "询问 = 请问你要 | 您需要\n",
    "业务相关 = 什么奶茶|什么饮料\n",
    "结尾 = 呢？\"\"\""
   ]
  },
  {
   "cell_type": "code",
   "execution_count": 312,
   "metadata": {},
   "outputs": [],
   "source": [
    "def create_grammar(gram):\n",
    "    grammar = {}\n",
    "    for line in gram.split('\\n'):\n",
    "        if not line.strip(): continue\n",
    "        exp,st = line.split('=')\n",
    "        grammar[exp.strip()] = [s.split() for s in st.split('|')]\n",
    "    return grammar"
   ]
  },
  {
   "cell_type": "code",
   "execution_count": 324,
   "metadata": {},
   "outputs": [],
   "source": [
    "import random\n",
    "choice = random.choice\n",
    "def generate(gram,target):\n",
    "    if target not in gram: return target\n",
    "    expanded = [generate(gram,t) for t in choice(gram[target])]\n",
    "    sentence = ''.join([e for e in expanded if e != 'null'])\n",
    "    return sentence\n",
    "def generate_n(n):\n",
    "    sen_list = {}\n",
    "    for i in range(n):\n",
    "        sen_list[i]= generate(create_grammar(customer_grammar),target = 'customer')\n",
    "    print(sen_list)\n"
   ]
  },
  {
   "cell_type": "code",
   "execution_count": 1,
   "metadata": {},
   "outputs": [
    {
     "ename": "NameError",
     "evalue": "name 'generate_n' is not defined",
     "output_type": "error",
     "traceback": [
      "\u001b[1;31m---------------------------------------------------------------------------\u001b[0m",
      "\u001b[1;31mNameError\u001b[0m                                 Traceback (most recent call last)",
      "\u001b[1;32m<ipython-input-1-194e6274ecef>\u001b[0m in \u001b[0;36m<module>\u001b[1;34m\u001b[0m\n\u001b[1;32m----> 1\u001b[1;33m \u001b[0mgenerate_n\u001b[0m\u001b[1;33m(\u001b[0m\u001b[1;36m10\u001b[0m\u001b[1;33m)\u001b[0m\u001b[1;33m\u001b[0m\u001b[1;33m\u001b[0m\u001b[0m\n\u001b[0m",
      "\u001b[1;31mNameError\u001b[0m: name 'generate_n' is not defined"
     ]
    }
   ],
   "source": [
    "generate_n(10)"
   ]
  },
  {
   "cell_type": "code",
   "execution_count": null,
   "metadata": {},
   "outputs": [],
   "source": []
  }
 ],
 "metadata": {
  "kernelspec": {
   "display_name": "Python 3",
   "language": "python",
   "name": "python3"
  },
  "language_info": {
   "codemirror_mode": {
    "name": "ipython",
    "version": 3
   },
   "file_extension": ".py",
   "mimetype": "text/x-python",
   "name": "python",
   "nbconvert_exporter": "python",
   "pygments_lexer": "ipython3",
   "version": "3.7.1"
  }
 },
 "nbformat": 4,
 "nbformat_minor": 2
}
