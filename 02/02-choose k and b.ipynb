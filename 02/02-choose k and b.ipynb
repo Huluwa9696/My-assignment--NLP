{
 "cells": [
  {
   "cell_type": "code",
   "execution_count": 8,
   "metadata": {},
   "outputs": [],
   "source": [
    "from sklearn.datasets import load_boston\n",
    "import matplotlib.pyplot as plt\n",
    "import numpy as np"
   ]
  },
  {
   "cell_type": "code",
   "execution_count": 9,
   "metadata": {},
   "outputs": [
    {
     "data": {
      "text/plain": [
       "(4, 10)"
      ]
     },
     "execution_count": 9,
     "metadata": {},
     "output_type": "execute_result"
    },
    {
     "data": {
      "image/png": "[encoded data removed]",
      "text/plain": [
       "<Figure size 432x288 with 1 Axes>"
      ]
     },
     "metadata": {
      "needs_background": "light"
     },
     "output_type": "display_data"
    }
   ],
   "source": [
    "data = load_boston()\n",
    "x,y = data['data'],data['target']\n",
    "plt.scatter(x[:,5],y)\n",
    "plt.xlim(4,10)"
   ]
  },
  {
   "cell_type": "code",
   "execution_count": 10,
   "metadata": {},
   "outputs": [],
   "source": [
    "import random\n",
    "def price(rm,k,b):\n",
    "    return k *rm + b"
   ]
  },
  {
   "cell_type": "code",
   "execution_count": 11,
   "metadata": {},
   "outputs": [
    {
     "data": {
      "text/plain": [
       "(4, 9)"
      ]
     },
     "execution_count": 11,
     "metadata": {},
     "output_type": "execute_result"
    },
    {
     "data": {
      "image/png": "[encoded data removed]",
      "text/plain": [
       "<Figure size 432x288 with 1 Axes>"
      ]
     },
     "metadata": {
      "needs_background": "light"
     },
     "output_type": "display_data"
    }
   ],
   "source": [
    "k = random.randint(-100,100)\n",
    "b = random.randint(-100,100)\n",
    "X_rm = x[:,5]  #复习numpy的用法\n",
    "price_kb = [price(rm,k,b) for rm in X_rm]\n",
    "plt.scatter(x[:,5],y)\n",
    "plt.scatter(X_rm,price_kb)\n",
    "plt.xlim(4,9)"
   ]
  },
  {
   "cell_type": "code",
   "execution_count": 12,
   "metadata": {},
   "outputs": [],
   "source": [
    "def loss(y,y_hat):\n",
    "    return sum((y_i - y_hat_i)**2 for y_i,y_hat_i in zip(list(y),list(y_hat))) / len(list(y))"
   ]
  },
  {
   "cell_type": "code",
   "execution_count": 13,
   "metadata": {},
   "outputs": [
    {
     "name": "stdout",
     "output_type": "stream",
     "text": [
      "current_k:99,current_b:-100,min_loss:44935.51425765811\n",
      "current_k:96,current_b:-29,min_loss:12610.539807905132\n",
      "current_k:72,current_b:62,min_loss:85.52429081422922\n",
      "current_k:13,current_b:-5,min_loss:59.00452796837945\n",
      "current_k:-5,current_b:-9,min_loss:47.49091147628458\n",
      "current_k:80,current_b:-48,min_loss:44.26439962055332\n"
     ]
    }
   ],
   "source": [
    "X_rm = x[:,5]\n",
    "#这句是什么意思\n",
    "min_loss = float('inf')\n",
    "current_k,current_b = None,None\n",
    "\n",
    "for i in range(10000):\n",
    "    k = random.randint(-100,100)\n",
    "    b = random.randint(-100,100)\n",
    "    current_loss = loss(y,price_kb)\n",
    "    price_kb = [price(r,k,b) for r in X_rm]\n",
    "    \n",
    "    if current_loss < min_loss:\n",
    "        current_k,current_b = k,b \n",
    "        min_loss = current_loss\n",
    "        print('current_k:{},current_b:{},min_loss:{}'.format(current_k,current_b,min_loss))\n",
    "        "
   ]
  },
  {
   "cell_type": "markdown",
   "metadata": {},
   "source": [
    "# 方法2-Direction"
   ]
  },
  {
   "cell_type": "code",
   "execution_count": 14,
   "metadata": {},
   "outputs": [
    {
     "name": "stdout",
     "output_type": "stream",
     "text": [
      "current_k:-57.582129525601864,current_b:29.717549473122915,min_loss:128045.10342995157\n",
      "current_k:28.583903142190593,current_b:-89.2945211519053,min_loss:4829.072794285342\n",
      "current_k:2.3401344794973937,current_b:-17.34438107922513,min_loss:699.6725856865388\n",
      "current_k:3.9713833189356365,current_b:-1.285972670553008,min_loss:57.86983307584023\n",
      "current_k:4.612593518151925,current_b:-8.26381109401683,min_loss:56.80061229220776\n",
      "current_k:8.857395507507974,current_b:-31.00437279747021,min_loss:48.15977403226809\n",
      "current_k:7.739022344385148,current_b:-25.22030917464201,min_loss:45.29710294835477\n",
      "current_k:9.413833210943608,current_b:-36.5445995869577,min_loss:43.6556689378399\n"
     ]
    }
   ],
   "source": [
    "trying_times = 10000\n",
    "loss_min = float('inf')\n",
    "best_k,best_b = None,None\n",
    "direction = [\n",
    "        (+1,-1),\n",
    "        (+1,+1),\n",
    "        (-1,+1),\n",
    "        (-1,-1),\n",
    "    ]\n",
    "next_direction = random.choice(direction)\n",
    "for i in range(trying_times):\n",
    "    k = random.random()*200-100\n",
    "    b = random.random()*200-100\n",
    "    k_direciton,b_direction = next_direction\n",
    "    current_k,current_b = k + k_direciton,b + b_direction\n",
    "    price_k_b = [price(r,current_k,current_b) for r in X_rm]\n",
    "    current_loss = loss(y,price_k_b)\n",
    "\n",
    "    if current_loss < loss_min:\n",
    "        loss_min = current_loss\n",
    "        best_k,best_b = current_k,current_b\n",
    "        next_direction = next_direction\n",
    "        print('current_k:{},current_b:{},min_loss:{}'.format(best_k,best_b,loss_min))\n",
    "    else:\n",
    "        next_direction = random.choice(direction)"
   ]
  },
  {
   "cell_type": "markdown",
   "metadata": {},
   "source": [
    "# 使用导数方法，对k和b的变化趋势进行监管"
   ]
  },
  {
   "cell_type": "code",
   "execution_count": 15,
   "metadata": {},
   "outputs": [],
   "source": [
    "def partial_k(x,y,y_hat):\n",
    "    n = len(y)\n",
    "    gradient = 0\n",
    "    for x_i,y_i,y_hat_i in zip(list(x),list(y),list(y_hat)):\n",
    "        gradient += (y_i - y_hat_i) *x_i\n",
    "    return -2 / n * gradient"
   ]
  },
  {
   "cell_type": "code",
   "execution_count": 16,
   "metadata": {},
   "outputs": [],
   "source": [
    "def partial_b(x,y,y_hat):\n",
    "    n = len(y)\n",
    "    gradient = 0\n",
    "    for y_i,y_hat_i in zip(list(y),list(y_hat)):\n",
    "        gradient += (y_i - y_hat_i) \n",
    "    return -2 / n * gradient"
   ]
  },
  {
   "cell_type": "code",
   "execution_count": 17,
   "metadata": {},
   "outputs": [
    {
     "name": "stdout",
     "output_type": "stream",
     "text": [
      "current_k:-26.500726751357774,current_b:-77.35812348535956,min_loss:71657.49444688976\n",
      "current_k:-21.15621051426575,current_b:47.40092912226862,min_loss:12178.343623581355\n",
      "current_k:-0.07426439740329727,current_b:-25.311488741735545,min_loss:2419.0429803556362\n",
      "current_k:-5.75666420255871,current_b:21.21997987578976,min_loss:1557.9811425365945\n",
      "current_k:13.280582848985702,current_b:-30.90076362137006,min_loss:954.005999722104\n",
      "current_k:11.67355359722471,current_b:-77.453007092099,min_loss:755.5784923725507\n",
      "current_k:9.549579662449716,current_b:-28.06938467352893,min_loss:132.31178818428722\n",
      "current_k:2.594553002152878,current_b:3.9291523293257598,min_loss:69.74540388921801\n",
      "current_k:5.031440249142435,current_b:-6.572248360733795,min_loss:58.093466299795736\n",
      "current_k:7.407485530003427,current_b:-20.78400058014141,min_loss:55.490583971559346\n",
      "current_k:13.432292120190525,current_b:-62.89317218734936,min_loss:53.85677344429815\n",
      "current_k:9.55902466782419,current_b:-38.429180695086,min_loss:44.49020278882952\n"
     ]
    },
    {
     "data": {
      "image/png": "[encoded data removed]",
      "text/plain": [
       "<Figure size 432x288 with 1 Axes>"
      ]
     },
     "metadata": {
      "needs_background": "light"
     },
     "output_type": "display_data"
    }
   ],
   "source": [
    "from sklearn.datasets import load_boston\n",
    "import matplotlib.pyplot as plt\n",
    "import numpy as np\n",
    "import random\n",
    "\n",
    "data = load_boston()\n",
    "x,y = data['data'],data['target']\n",
    "plt.scatter(x[:,5],y)\n",
    "plt.xlim(4,10)\n",
    "\n",
    "def price(rm,k,b):\n",
    "    return k *rm + b\n",
    "X_rm = x[:,5]  #复习numpy的用法\n",
    "\n",
    "plt.scatter(x[:,5],y)\n",
    "plt.scatter(X_rm,price_kb)\n",
    "plt.xlim(4,9)\n",
    "\n",
    "def loss(y,y_hat):\n",
    "    return sum((y_i - y_hat_i)**2 for y_i,y_hat_i in zip(list(y),list(y_hat))) / len(list(y))\n",
    "\n",
    "trying_times = 10000\n",
    "loss_min = float('inf')\n",
    "best_k,best_b = None,None\n",
    "learning_rate = 1e-04 #每次k和b微调的单位\n",
    "next_direction = random.choice(direction)\n",
    "for i in range(trying_times):\n",
    "    current_k = random.random()*200-100\n",
    "    current_b = random.random()*200-100\n",
    "    price_k_b = [price(r,current_k,current_b) for r in X_rm]\n",
    "    current_loss = loss(y,price_k_b)\n",
    "\n",
    "    if current_loss < loss_min:\n",
    "        loss_min = current_loss\n",
    "        best_k,best_b = current_k,current_b\n",
    "        print('current_k:{},current_b:{},min_loss:{}'.format(best_k,best_b,loss_min))\n",
    "\n",
    "    k_gradient = partial_k(x,y,price_k_b)\n",
    "    b_gradient = partial_b(x,y,price_k_b)\n",
    "    current_k = current_k + (-1 * k_gradient) * learning_rate\n",
    "    current_b = current_b + (-1 * b_gradient) * learning_rate"
   ]
  },
  {
   "cell_type": "code",
   "execution_count": null,
   "metadata": {},
   "outputs": [],
   "source": []
  }
 ],
 "metadata": {
  "kernelspec": {
   "display_name": "Python 3",
   "language": "python",
   "name": "python3"
  },
  "language_info": {
   "codemirror_mode": {
    "name": "ipython",
    "version": 3
   },
   "file_extension": ".py",
   "mimetype": "text/x-python",
   "name": "python",
   "nbconvert_exporter": "python",
   "pygments_lexer": "ipython3",
   "version": "3.7.1"
  }
 },
 "nbformat": 4,
 "nbformat_minor": 2
}
